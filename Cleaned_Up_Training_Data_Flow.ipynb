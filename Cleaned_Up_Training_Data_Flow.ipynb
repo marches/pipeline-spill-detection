{
  "nbformat": 4,
  "nbformat_minor": 0,
  "metadata": {
    "colab": {
      "provenance": [],
      "authorship_tag": "ABX9TyOGyOz9d2id2mW6l14EcfrD",
      "include_colab_link": true
    },
    "kernelspec": {
      "name": "python3",
      "display_name": "Python 3"
    },
    "language_info": {
      "name": "python"
    }
  },
  "cells": [
    {
      "cell_type": "markdown",
      "metadata": {
        "id": "view-in-github",
        "colab_type": "text"
      },
      "source": [
        "<a href=\"https://colab.research.google.com/github/marches/pipeline-spill-detection/blob/main/Cleaned_Up_Training_Data_Flow.ipynb\" target=\"_parent\"><img src=\"https://colab.research.google.com/assets/colab-badge.svg\" alt=\"Open In Colab\"/></a>"
      ]
    },
    {
      "cell_type": "markdown",
      "source": [
        "### Oil Detection with Google Earth Engine - Training"
      ],
      "metadata": {
        "id": "8Ix3UqIdEZ43"
      }
    },
    {
      "cell_type": "code",
      "execution_count": null,
      "metadata": {
        "colab": {
          "base_uri": "https://localhost:8080/"
        },
        "id": "xA2Au5v4EQC6",
        "outputId": "5f9ed0fc-7224-4e33-9c47-c65814013c14"
      },
      "outputs": [
        {
          "output_type": "stream",
          "name": "stdout",
          "text": [
            "Mounted at /content/drive\n"
          ]
        }
      ],
      "source": [
        "from google.colab import drive\n",
        "drive.mount('/content/drive', force_remount=True)"
      ]
    },
    {
      "cell_type": "code",
      "source": [
        "! git clone https://github.com/marches/pipeline-spill-detection.git"
      ],
      "metadata": {
        "colab": {
          "base_uri": "https://localhost:8080/"
        },
        "id": "ydlcwA9nx-ib",
        "outputId": "1a71ecff-2e81-4670-d759-7c0facfb1990"
      },
      "execution_count": 2,
      "outputs": [
        {
          "output_type": "stream",
          "name": "stdout",
          "text": [
            "Cloning into 'pipeline-spill-detection'...\n",
            "fatal: could not read Username for 'https://github.com': No such device or address\n"
          ]
        }
      ]
    },
    {
      "cell_type": "markdown",
      "source": [
        "##### Data Labeling "
      ],
      "metadata": {
        "id": "LPDTkpbUxh2A"
      }
    },
    {
      "cell_type": "code",
      "source": [],
      "metadata": {
        "id": "cO3s6LJ6E45r"
      },
      "execution_count": null,
      "outputs": []
    },
    {
      "cell_type": "markdown",
      "source": [
        "#### Feature Noralization and Enrichment"
      ],
      "metadata": {
        "id": "GAVpkaVVxrio"
      }
    },
    {
      "cell_type": "markdown",
      "source": [
        "#### "
      ],
      "metadata": {
        "id": "2cns3DfFxxh3"
      }
    },
    {
      "cell_type": "code",
      "source": [],
      "metadata": {
        "id": "Ui_ZuEPAxwGv"
      },
      "execution_count": null,
      "outputs": []
    },
    {
      "cell_type": "code",
      "source": [],
      "metadata": {
        "id": "j642H6mwxqep"
      },
      "execution_count": null,
      "outputs": []
    }
  ]
}