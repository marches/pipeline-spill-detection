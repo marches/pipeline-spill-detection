{
  "nbformat": 4,
  "nbformat_minor": 0,
  "metadata": {
    "colab": {
      "provenance": [],
      "collapsed_sections": [],
      "include_colab_link": true
    },
    "kernelspec": {
      "name": "python3",
      "display_name": "Python 3"
    },
    "language_info": {
      "name": "python"
    }
  },
  "cells": [
    {
      "cell_type": "markdown",
      "metadata": {
        "id": "view-in-github",
        "colab_type": "text"
      },
      "source": [
        "<a href=\"https://colab.research.google.com/github/marches/pipeline-spill-detection/blob/main/notebooks/Pixel_labeling_and_initial_model.ipynb\" target=\"_parent\"><img src=\"https://colab.research.google.com/assets/colab-badge.svg\" alt=\"Open In Colab\"/></a>"
      ]
    },
    {
      "cell_type": "markdown",
      "source": [
        "### Contents:\n",
        "1. Hand labeling process validation\n",
        "2. RF results with labeled image"
      ],
      "metadata": {
        "id": "8fiCMpDvckfo"
      }
    },
    {
      "cell_type": "code",
      "execution_count": 13,
      "metadata": {
        "colab": {
          "base_uri": "https://localhost:8080/"
        },
        "id": "1Fk0E2jZcf0m",
        "outputId": "ea4beb5a-33c4-4214-c245-c25b96ab1e4c"
      },
      "outputs": [
        {
          "output_type": "stream",
          "name": "stdout",
          "text": [
            "Mounted at /content/drive\n"
          ]
        }
      ],
      "source": [
        "\n",
        "\n",
        "from google.colab import drive\n",
        "drive.mount('/content/drive', force_remount=True)\n",
        "\n",
        "import numpy as np\n",
        "import matplotlib.pyplot as plt\n",
        "import rasterio\n",
        "from rasterio.plot import show as showRasterio\n",
        "\n",
        "import pandas as pd\n",
        "from PIL import Image"
      ]
    },
    {
      "cell_type": "code",
      "source": [
        "s1b = np.load(\"/content/drive/MyDrive/210 Capstone Project/Data/Sentinel2-SudanSpill1-06-25-2019.npy\")\n",
        "s1a = np.load(\"/content/drive/MyDrive/210 Capstone Project/Data/Sentinel2-SudanSpill1-09-28-2019.npy\")\n",
        "\n",
        "s1b_tif = \"/content/drive/MyDrive/210 Capstone Project/Data/Sentinel2-SudanSpill1-06-25-2019.tif\"\n",
        "s1a_tif = \"/content/drive/MyDrive/210 Capstone Project/Data/Sentinel2-SudanSpill1-09-28-2019.tif\""
      ],
      "metadata": {
        "id": "BJBzhGK1fiKJ"
      },
      "execution_count": 9,
      "outputs": []
    },
    {
      "cell_type": "markdown",
      "source": [
        "### Create png and download"
      ],
      "metadata": {
        "id": "EyaY3nitiEfu"
      }
    },
    {
      "cell_type": "code",
      "source": [
        "s1a[:,:,:3].shape"
      ],
      "metadata": {
        "id": "vNL1SRx_shVn",
        "outputId": "a2fbef1c-3b0b-4678-a7f9-95d3008083ca",
        "colab": {
          "base_uri": "https://localhost:8080/"
        }
      },
      "execution_count": 25,
      "outputs": [
        {
          "output_type": "execute_result",
          "data": {
            "text/plain": [
              "(187, 187, 3)"
            ]
          },
          "metadata": {},
          "execution_count": 25
        }
      ]
    },
    {
      "cell_type": "code",
      "source": [
        "# im = Image.fromarray(s1a[:,:,:3])\n",
        "im = Image.fromarray((s1a[:,:,:3]).astype(np.uint8))\n",
        "im.save(\"SudanSpill1.jpeg\")"
      ],
      "metadata": {
        "id": "kPCpsASMfK2N"
      },
      "execution_count": 27,
      "outputs": []
    },
    {
      "cell_type": "markdown",
      "source": [
        "### Label image \n",
        "Upload image to: https://andres-patrignani.github.io/pixlabel/\n",
        "\n",
        "For now, just labeling oil as \"oil\". Future labels could be standardized to follow paper.\n",
        "\n",
        "Alternative labeling sw: \n",
        "* https://app.supervise.ly/signup\n",
        "* https://labelbox.com/"
      ],
      "metadata": {
        "id": "KmEwOyn3iHAm"
      }
    },
    {
      "cell_type": "code",
      "source": [
        "labels = pd.read_csv(\"/content/drive/MyDrive/210 Capstone Project/Data/SudanSpill1.csv\")\n",
        "labels.head()"
      ],
      "metadata": {
        "id": "w3qn7OfTm1RC",
        "outputId": "f6e5d8fd-0138-44b4-8b8e-9b5cf6dcc521",
        "colab": {
          "base_uri": "https://localhost:8080/",
          "height": 235
        }
      },
      "execution_count": 12,
      "outputs": [
        {
          "output_type": "execute_result",
          "data": {
            "text/plain": [
              "   RECORD         FILENAME  LABEL  COL  ROW  TOTALCOLS  TOTALROWS  \\\n",
              "0       1  SudanSpill1.png    NaN  475  490       1070       1046   \n",
              "1       2  SudanSpill1.png    NaN  480  490       1070       1046   \n",
              "2       3  SudanSpill1.png    NaN  484  490       1070       1046   \n",
              "3       4  SudanSpill1.png    NaN  477  494       1070       1046   \n",
              "4       5  SudanSpill1.png    NaN  482  493       1070       1046   \n",
              "\n",
              "                  TIMESTAMP   R1  G1  ...  B6   R7  G7  B7   R8  G8  B8   R9  \\\n",
              "0  2022-10-13T23:02:01.903Z  237   2  ...   2  237   2   2  237   2   2  237   \n",
              "1  2022-10-13T23:02:03.251Z  237   2  ...   2  237   2   2  237   2   2  237   \n",
              "2  2022-10-13T23:02:04.933Z  237   2  ...   2  237   2   2  237   2   2  237   \n",
              "3  2022-10-13T23:02:06.182Z  237   2  ...   2  237   2   2  237   2   2  237   \n",
              "4  2022-10-13T23:02:07.683Z  237   2  ...   2  237   2   2  237   2   2  237   \n",
              "\n",
              "   G9  B9  \n",
              "0   2   2  \n",
              "1   2   2  \n",
              "2   2   2  \n",
              "3   2   2  \n",
              "4   2   2  \n",
              "\n",
              "[5 rows x 35 columns]"
            ],
            "text/html": [
              "\n",
              "  <div id=\"df-3a208ebf-2956-4e68-ab16-1e73996c2e8b\">\n",
              "    <div class=\"colab-df-container\">\n",
              "      <div>\n",
              "<style scoped>\n",
              "    .dataframe tbody tr th:only-of-type {\n",
              "        vertical-align: middle;\n",
              "    }\n",
              "\n",
              "    .dataframe tbody tr th {\n",
              "        vertical-align: top;\n",
              "    }\n",
              "\n",
              "    .dataframe thead th {\n",
              "        text-align: right;\n",
              "    }\n",
              "</style>\n",
              "<table border=\"1\" class=\"dataframe\">\n",
              "  <thead>\n",
              "    <tr style=\"text-align: right;\">\n",
              "      <th></th>\n",
              "      <th>RECORD</th>\n",
              "      <th>FILENAME</th>\n",
              "      <th>LABEL</th>\n",
              "      <th>COL</th>\n",
              "      <th>ROW</th>\n",
              "      <th>TOTALCOLS</th>\n",
              "      <th>TOTALROWS</th>\n",
              "      <th>TIMESTAMP</th>\n",
              "      <th>R1</th>\n",
              "      <th>G1</th>\n",
              "      <th>...</th>\n",
              "      <th>B6</th>\n",
              "      <th>R7</th>\n",
              "      <th>G7</th>\n",
              "      <th>B7</th>\n",
              "      <th>R8</th>\n",
              "      <th>G8</th>\n",
              "      <th>B8</th>\n",
              "      <th>R9</th>\n",
              "      <th>G9</th>\n",
              "      <th>B9</th>\n",
              "    </tr>\n",
              "  </thead>\n",
              "  <tbody>\n",
              "    <tr>\n",
              "      <th>0</th>\n",
              "      <td>1</td>\n",
              "      <td>SudanSpill1.png</td>\n",
              "      <td>NaN</td>\n",
              "      <td>475</td>\n",
              "      <td>490</td>\n",
              "      <td>1070</td>\n",
              "      <td>1046</td>\n",
              "      <td>2022-10-13T23:02:01.903Z</td>\n",
              "      <td>237</td>\n",
              "      <td>2</td>\n",
              "      <td>...</td>\n",
              "      <td>2</td>\n",
              "      <td>237</td>\n",
              "      <td>2</td>\n",
              "      <td>2</td>\n",
              "      <td>237</td>\n",
              "      <td>2</td>\n",
              "      <td>2</td>\n",
              "      <td>237</td>\n",
              "      <td>2</td>\n",
              "      <td>2</td>\n",
              "    </tr>\n",
              "    <tr>\n",
              "      <th>1</th>\n",
              "      <td>2</td>\n",
              "      <td>SudanSpill1.png</td>\n",
              "      <td>NaN</td>\n",
              "      <td>480</td>\n",
              "      <td>490</td>\n",
              "      <td>1070</td>\n",
              "      <td>1046</td>\n",
              "      <td>2022-10-13T23:02:03.251Z</td>\n",
              "      <td>237</td>\n",
              "      <td>2</td>\n",
              "      <td>...</td>\n",
              "      <td>2</td>\n",
              "      <td>237</td>\n",
              "      <td>2</td>\n",
              "      <td>2</td>\n",
              "      <td>237</td>\n",
              "      <td>2</td>\n",
              "      <td>2</td>\n",
              "      <td>237</td>\n",
              "      <td>2</td>\n",
              "      <td>2</td>\n",
              "    </tr>\n",
              "    <tr>\n",
              "      <th>2</th>\n",
              "      <td>3</td>\n",
              "      <td>SudanSpill1.png</td>\n",
              "      <td>NaN</td>\n",
              "      <td>484</td>\n",
              "      <td>490</td>\n",
              "      <td>1070</td>\n",
              "      <td>1046</td>\n",
              "      <td>2022-10-13T23:02:04.933Z</td>\n",
              "      <td>237</td>\n",
              "      <td>2</td>\n",
              "      <td>...</td>\n",
              "      <td>2</td>\n",
              "      <td>237</td>\n",
              "      <td>2</td>\n",
              "      <td>2</td>\n",
              "      <td>237</td>\n",
              "      <td>2</td>\n",
              "      <td>2</td>\n",
              "      <td>237</td>\n",
              "      <td>2</td>\n",
              "      <td>2</td>\n",
              "    </tr>\n",
              "    <tr>\n",
              "      <th>3</th>\n",
              "      <td>4</td>\n",
              "      <td>SudanSpill1.png</td>\n",
              "      <td>NaN</td>\n",
              "      <td>477</td>\n",
              "      <td>494</td>\n",
              "      <td>1070</td>\n",
              "      <td>1046</td>\n",
              "      <td>2022-10-13T23:02:06.182Z</td>\n",
              "      <td>237</td>\n",
              "      <td>2</td>\n",
              "      <td>...</td>\n",
              "      <td>2</td>\n",
              "      <td>237</td>\n",
              "      <td>2</td>\n",
              "      <td>2</td>\n",
              "      <td>237</td>\n",
              "      <td>2</td>\n",
              "      <td>2</td>\n",
              "      <td>237</td>\n",
              "      <td>2</td>\n",
              "      <td>2</td>\n",
              "    </tr>\n",
              "    <tr>\n",
              "      <th>4</th>\n",
              "      <td>5</td>\n",
              "      <td>SudanSpill1.png</td>\n",
              "      <td>NaN</td>\n",
              "      <td>482</td>\n",
              "      <td>493</td>\n",
              "      <td>1070</td>\n",
              "      <td>1046</td>\n",
              "      <td>2022-10-13T23:02:07.683Z</td>\n",
              "      <td>237</td>\n",
              "      <td>2</td>\n",
              "      <td>...</td>\n",
              "      <td>2</td>\n",
              "      <td>237</td>\n",
              "      <td>2</td>\n",
              "      <td>2</td>\n",
              "      <td>237</td>\n",
              "      <td>2</td>\n",
              "      <td>2</td>\n",
              "      <td>237</td>\n",
              "      <td>2</td>\n",
              "      <td>2</td>\n",
              "    </tr>\n",
              "  </tbody>\n",
              "</table>\n",
              "<p>5 rows × 35 columns</p>\n",
              "</div>\n",
              "      <button class=\"colab-df-convert\" onclick=\"convertToInteractive('df-3a208ebf-2956-4e68-ab16-1e73996c2e8b')\"\n",
              "              title=\"Convert this dataframe to an interactive table.\"\n",
              "              style=\"display:none;\">\n",
              "        \n",
              "  <svg xmlns=\"http://www.w3.org/2000/svg\" height=\"24px\"viewBox=\"0 0 24 24\"\n",
              "       width=\"24px\">\n",
              "    <path d=\"M0 0h24v24H0V0z\" fill=\"none\"/>\n",
              "    <path d=\"M18.56 5.44l.94 2.06.94-2.06 2.06-.94-2.06-.94-.94-2.06-.94 2.06-2.06.94zm-11 1L8.5 8.5l.94-2.06 2.06-.94-2.06-.94L8.5 2.5l-.94 2.06-2.06.94zm10 10l.94 2.06.94-2.06 2.06-.94-2.06-.94-.94-2.06-.94 2.06-2.06.94z\"/><path d=\"M17.41 7.96l-1.37-1.37c-.4-.4-.92-.59-1.43-.59-.52 0-1.04.2-1.43.59L10.3 9.45l-7.72 7.72c-.78.78-.78 2.05 0 2.83L4 21.41c.39.39.9.59 1.41.59.51 0 1.02-.2 1.41-.59l7.78-7.78 2.81-2.81c.8-.78.8-2.07 0-2.86zM5.41 20L4 18.59l7.72-7.72 1.47 1.35L5.41 20z\"/>\n",
              "  </svg>\n",
              "      </button>\n",
              "      \n",
              "  <style>\n",
              "    .colab-df-container {\n",
              "      display:flex;\n",
              "      flex-wrap:wrap;\n",
              "      gap: 12px;\n",
              "    }\n",
              "\n",
              "    .colab-df-convert {\n",
              "      background-color: #E8F0FE;\n",
              "      border: none;\n",
              "      border-radius: 50%;\n",
              "      cursor: pointer;\n",
              "      display: none;\n",
              "      fill: #1967D2;\n",
              "      height: 32px;\n",
              "      padding: 0 0 0 0;\n",
              "      width: 32px;\n",
              "    }\n",
              "\n",
              "    .colab-df-convert:hover {\n",
              "      background-color: #E2EBFA;\n",
              "      box-shadow: 0px 1px 2px rgba(60, 64, 67, 0.3), 0px 1px 3px 1px rgba(60, 64, 67, 0.15);\n",
              "      fill: #174EA6;\n",
              "    }\n",
              "\n",
              "    [theme=dark] .colab-df-convert {\n",
              "      background-color: #3B4455;\n",
              "      fill: #D2E3FC;\n",
              "    }\n",
              "\n",
              "    [theme=dark] .colab-df-convert:hover {\n",
              "      background-color: #434B5C;\n",
              "      box-shadow: 0px 1px 3px 1px rgba(0, 0, 0, 0.15);\n",
              "      filter: drop-shadow(0px 1px 2px rgba(0, 0, 0, 0.3));\n",
              "      fill: #FFFFFF;\n",
              "    }\n",
              "  </style>\n",
              "\n",
              "      <script>\n",
              "        const buttonEl =\n",
              "          document.querySelector('#df-3a208ebf-2956-4e68-ab16-1e73996c2e8b button.colab-df-convert');\n",
              "        buttonEl.style.display =\n",
              "          google.colab.kernel.accessAllowed ? 'block' : 'none';\n",
              "\n",
              "        async function convertToInteractive(key) {\n",
              "          const element = document.querySelector('#df-3a208ebf-2956-4e68-ab16-1e73996c2e8b');\n",
              "          const dataTable =\n",
              "            await google.colab.kernel.invokeFunction('convertToInteractive',\n",
              "                                                     [key], {});\n",
              "          if (!dataTable) return;\n",
              "\n",
              "          const docLinkHtml = 'Like what you see? Visit the ' +\n",
              "            '<a target=\"_blank\" href=https://colab.research.google.com/notebooks/data_table.ipynb>data table notebook</a>'\n",
              "            + ' to learn more about interactive tables.';\n",
              "          element.innerHTML = '';\n",
              "          dataTable['output_type'] = 'display_data';\n",
              "          await google.colab.output.renderOutput(dataTable, element);\n",
              "          const docLink = document.createElement('div');\n",
              "          docLink.innerHTML = docLinkHtml;\n",
              "          element.appendChild(docLink);\n",
              "        }\n",
              "      </script>\n",
              "    </div>\n",
              "  </div>\n",
              "  "
            ]
          },
          "metadata": {},
          "execution_count": 12
        }
      ]
    },
    {
      "cell_type": "code",
      "source": [],
      "metadata": {
        "id": "bIbzJ-ZmnMYP"
      },
      "execution_count": null,
      "outputs": []
    },
    {
      "cell_type": "code",
      "source": [
        "def scale(arr):\n",
        "  # scales the values of a 2d array between 0 and 1.\n",
        "\n",
        "  flat = arr.ravel()\n",
        "  top, bottom = max(flat), min(flat)\n",
        "    \n",
        "  scaled = []\n",
        "  for pix in flat:\n",
        "    new = (pix-bottom) / (top-bottom)\n",
        "    scaled.append(new)\n",
        "    \n",
        "  scaled_arr = np.array(scaled).reshape(arr.shape)\n",
        "  return scaled_arr\n",
        "\n",
        "\n",
        "#scaled_arr = scale(img[:,:,0]) #DELETE LATER\n",
        "#plt.hist(scaled_arr.ravel(), bins=20) #DELETE LATER\n",
        "#plt.tight_layout() #DELETE LATER"
      ],
      "metadata": {
        "id": "bqhiN4yIheHi"
      },
      "execution_count": null,
      "outputs": []
    },
    {
      "cell_type": "code",
      "source": [
        "# scale dimensions of image\n",
        "img_scaled = np.zeros(img.shape)\n",
        "#print(img_scaled.shape) #DELETE LATER\n",
        "\n",
        "for layer in range(img.shape[2]):\n",
        "  #print(\"layer number\",layer) #DELETE LATER\n",
        "  #print(\"layer\", layer,\"max:\",img[:,:,layer].max()) #DELETE LATER\n",
        "  #print(\"layer\", layer,\"min:\",img[:,:,layer].min()) #DELETE LATER\n",
        "  img_scaled[:,:,layer] = scale(img[:,:,layer])"
      ],
      "metadata": {
        "id": "PrCepRaMwWHG"
      },
      "execution_count": null,
      "outputs": []
    },
    {
      "cell_type": "code",
      "source": [
        "# Reshape image array for clustering.\n",
        "\n",
        "kmeans_input = img_scaled.reshape(187*187,11)\n",
        "#print(kmeans_input.shape) #(34969, 11) #DELETE LATER"
      ],
      "metadata": {
        "id": "Vbl6B6dv2i5x"
      },
      "execution_count": null,
      "outputs": []
    },
    {
      "cell_type": "code",
      "source": [
        "# Try KMeans Clustering with scaling.\n",
        "from sklearn.cluster import KMeans\n",
        "Kmean = KMeans(n_clusters=6, random_state=30)\n",
        "#Kmean = KMeans(n_clusters=6, random_state=30, n_init=100, max_iter=500, tol=1e-7, algorithm='auto')\n",
        "Kmean.fit(kmeans_input)\n",
        "\n",
        "\n",
        "# Reshape model labels for displaying output.\n",
        "Kmean.labels_.shape\n",
        "labels = Kmean.labels_.reshape(187,187)\n",
        "\n",
        "# Display labels\n",
        "import numpy as np\n",
        "import matplotlib.pyplot as plt\n",
        "\n",
        "fig = plt.figure(figsize=(16,16))\n",
        "\n",
        "ax = fig.add_subplot(111)\n",
        "ax.set_title('colorMap')\n",
        "plt.imshow(Kmean.labels_.reshape(187,187))\n",
        "ax.set_aspect('equal')\n",
        "\n",
        "plt.colorbar(orientation='vertical')\n",
        "plt.show()"
      ],
      "metadata": {
        "colab": {
          "base_uri": "https://localhost:8080/",
          "height": 911
        },
        "id": "ULm_R_FEwV_W",
        "outputId": "7ccf0b05-3b19-464c-dd60-048afed8e342"
      },
      "execution_count": null,
      "outputs": [
        {
          "output_type": "display_data",
          "data": {
            "text/plain": [
              "<Figure size 1152x1152 with 2 Axes>"
            ],
            "image/png": "[encoded data removed]"
          },
          "metadata": {
            "needs_background": "light"
          }
        }
      ]
    },
    {
      "cell_type": "code",
      "source": [],
      "metadata": {
        "id": "3NgzXIvIoWbY"
      },
      "execution_count": null,
      "outputs": []
    },
    {
      "cell_type": "code",
      "source": [],
      "metadata": {
        "id": "xM9Ixr2YoWY5"
      },
      "execution_count": null,
      "outputs": []
    },
    {
      "cell_type": "markdown",
      "source": [
        "Psuedo-code:\n",
        "\n",
        "1. Create function to manually remove non-oil spill labels.\n",
        "2. Manually remove non-oil spills\n",
        "3. Split modified image and label arrays into balanced test/train datasets based on labels.\n",
        "4. Train and test a Random Forest model.\n",
        "5. Visually display labels (highlight oil spill, all others shade of blue)."
      ],
      "metadata": {
        "id": "Z31_8Gqoovgo"
      }
    },
    {
      "cell_type": "code",
      "source": [
        "# EDA for distribution of labels\n",
        "plt.hist(labels.ravel(), bins=20)\n",
        "\n",
        "# Cluster labels seem to be:\n",
        "# 0 - light vegetation\n",
        "# 1 - dark vegetation\n",
        "# 2 - mixed dirt and vegetation\n",
        "# 3 - dirt\n",
        "# 4 - cloud/road\n",
        "# 5 - oil\n"
      ],
      "metadata": {
        "colab": {
          "base_uri": "https://localhost:8080/",
          "height": 369
        },
        "id": "qNTiHh8NoWWb",
        "outputId": "10355688-07d6-4501-d9e2-cae2ff39260a"
      },
      "execution_count": null,
      "outputs": [
        {
          "output_type": "execute_result",
          "data": {
            "text/plain": [
              "(array([9989.,    0.,    0.,    0., 5604.,    0.,    0.,    0., 7606.,\n",
              "           0.,    0.,    0., 9529.,    0.,    0.,    0., 1290.,    0.,\n",
              "           0.,  951.]),\n",
              " array([0.  , 0.25, 0.5 , 0.75, 1.  , 1.25, 1.5 , 1.75, 2.  , 2.25, 2.5 ,\n",
              "        2.75, 3.  , 3.25, 3.5 , 3.75, 4.  , 4.25, 4.5 , 4.75, 5.  ]),\n",
              " <a list of 20 Patch objects>)"
            ]
          },
          "metadata": {},
          "execution_count": 11
        },
        {
          "output_type": "display_data",
          "data": {
            "text/plain": [
              "<Figure size 432x288 with 1 Axes>"
            ],
            "image/png": "[encoded data removed]"
          },
          "metadata": {
            "needs_background": "light"
          }
        }
      ]
    },
    {
      "cell_type": "code",
      "source": [],
      "metadata": {
        "id": "DdDcNo6k1-Tn"
      },
      "execution_count": null,
      "outputs": []
    },
    {
      "cell_type": "code",
      "source": [
        "# Function to manually remove non-oil spills labels.\n",
        "def scrub(labels, fill_value=1, replace_value=5, corners=[0,1,0,1]):\n",
        "  xmin = corners[0]\n",
        "  xmax = corners[1]\n",
        "  ymin = corners[2]\n",
        "  ymax = corners[3]\n",
        "\n",
        "  mod_labels = labels\n",
        "\n",
        "  for xidx in range(xmin,xmax):\n",
        "    for yidx in range(ymin,ymax):\n",
        "      #print(mod_labels[xidx,yidx])\n",
        "      if mod_labels[xidx,yidx] == fill_value:\n",
        "        mod_labels[xmin:xmax,ymin:ymax] = replace_value  \n",
        "\n",
        "  #for label in mod_labels[xmin:xmax,ymin:ymax]:\n",
        "    #print(\"label:\",label)\n",
        "    #if label == fill_value:\n",
        "      #mod_labels[xmin:xmax,ymin:ymax] = replace_value\n",
        "  return mod_labels"
      ],
      "metadata": {
        "id": "kNOy6nP51-Rf"
      },
      "execution_count": null,
      "outputs": []
    },
    {
      "cell_type": "code",
      "source": [
        "labels[0,:]"
      ],
      "metadata": {
        "colab": {
          "base_uri": "https://localhost:8080/"
        },
        "id": "mgWCoUcI2pQ8",
        "outputId": "0990047f-f0c3-4209-c0b8-586d651e7d81"
      },
      "execution_count": null,
      "outputs": [
        {
          "output_type": "execute_result",
          "data": {
            "text/plain": [
              "array([1, 1, 1, 1, 1, 1, 1, 1, 1, 1, 2, 2, 2, 2, 1, 1, 1, 1, 1, 1, 1, 1,\n",
              "       1, 1, 2, 2, 2, 2, 2, 2, 1, 1, 1, 2, 2, 2, 2, 2, 2, 2, 0, 2, 2, 2,\n",
              "       2, 0, 0, 2, 4, 4, 2, 2, 2, 0, 0, 0, 2, 2, 2, 1, 1, 2, 2, 2, 2, 2,\n",
              "       2, 2, 2, 2, 2, 1, 1, 1, 1, 1, 1, 1, 1, 1, 1, 1, 1, 2, 2, 2, 2, 2,\n",
              "       2, 2, 2, 2, 2, 2, 2, 1, 1, 1, 1, 1, 1, 1, 1, 1, 1, 1, 1, 0, 0, 5,\n",
              "       5, 5, 5, 5, 3, 3, 3, 3, 3, 3, 3, 3, 5, 5, 5, 5, 5, 5, 5, 5, 5, 5,\n",
              "       5, 3, 0, 0, 2, 2, 4, 4, 4, 4, 4, 4, 1, 1, 1, 1, 1, 1, 2, 2, 0, 2,\n",
              "       2, 2, 2, 1, 1, 1, 1, 1, 1, 1, 1, 1, 1, 1, 1, 1, 1, 1, 1, 1, 1, 1,\n",
              "       1, 1, 1, 1, 1, 1, 1, 1, 1, 1, 1], dtype=int32)"
            ]
          },
          "metadata": {},
          "execution_count": 13
        }
      ]
    },
    {
      "cell_type": "code",
      "source": [
        "# test scrub\n",
        "corners =[0,35,100,150]\n",
        "test = scrub(labels,fill_value=5, replace_value=1,corners=corners)\n",
        "\n",
        "# Replot labels to confirm\n",
        "test[0,:]"
      ],
      "metadata": {
        "colab": {
          "base_uri": "https://localhost:8080/"
        },
        "id": "-qPLqqUs1-PE",
        "outputId": "b91b34fa-bd87-495d-e488-023ffbdf811e"
      },
      "execution_count": null,
      "outputs": [
        {
          "output_type": "execute_result",
          "data": {
            "text/plain": [
              "array([1, 1, 1, 1, 1, 1, 1, 1, 1, 1, 2, 2, 2, 2, 1, 1, 1, 1, 1, 1, 1, 1,\n",
              "       1, 1, 2, 2, 2, 2, 2, 2, 1, 1, 1, 2, 2, 2, 2, 2, 2, 2, 0, 2, 2, 2,\n",
              "       2, 0, 0, 2, 4, 4, 2, 2, 2, 0, 0, 0, 2, 2, 2, 1, 1, 2, 2, 2, 2, 2,\n",
              "       2, 2, 2, 2, 2, 1, 1, 1, 1, 1, 1, 1, 1, 1, 1, 1, 1, 2, 2, 2, 2, 2,\n",
              "       2, 2, 2, 2, 2, 2, 2, 1, 1, 1, 1, 1, 1, 1, 1, 1, 1, 1, 1, 1, 1, 1,\n",
              "       1, 1, 1, 1, 1, 1, 1, 1, 1, 1, 1, 1, 1, 1, 1, 1, 1, 1, 1, 1, 1, 1,\n",
              "       1, 1, 1, 1, 1, 1, 1, 1, 1, 1, 1, 1, 1, 1, 1, 1, 1, 1, 2, 2, 0, 2,\n",
              "       2, 2, 2, 1, 1, 1, 1, 1, 1, 1, 1, 1, 1, 1, 1, 1, 1, 1, 1, 1, 1, 1,\n",
              "       1, 1, 1, 1, 1, 1, 1, 1, 1, 1, 1], dtype=int32)"
            ]
          },
          "metadata": {},
          "execution_count": 14
        }
      ]
    },
    {
      "cell_type": "code",
      "source": [
        "# Display SCRUBBED labels\n",
        "import numpy as np\n",
        "import matplotlib.pyplot as plt\n",
        "\n",
        "fig = plt.figure(figsize=(16,16))\n",
        "\n",
        "ax = fig.add_subplot(111)\n",
        "ax.set_title('colorMap')\n",
        "plt.imshow(test)\n",
        "ax.set_aspect('equal')\n",
        "\n",
        "plt.colorbar(orientation='vertical')\n",
        "plt.show()"
      ],
      "metadata": {
        "colab": {
          "base_uri": "https://localhost:8080/",
          "height": 911
        },
        "id": "hK_mUwu92pW4",
        "outputId": "4d3d7cec-7e08-4107-b087-511b82c51848"
      },
      "execution_count": null,
      "outputs": [
        {
          "output_type": "display_data",
          "data": {
            "text/plain": [
              "<Figure size 1152x1152 with 2 Axes>"
            ],
            "image/png": "[encoded data removed]"
          },
          "metadata": {
            "needs_background": "light"
          }
        }
      ]
    },
    {
      "cell_type": "code",
      "source": [
        "# Obtain test/train splits for data (X) and labels (Y).\n",
        "labels_list = [0,1,2,3,4,5]\n",
        "labels_flat = labels.ravel().reshape(-1,1)\n",
        "img_flat = kmeans_input\n",
        "test_split = 0.3\n",
        "\n",
        "\n",
        "X_train = np.zeros((1,11)) # train data\n",
        "X_test = np.zeros((1,11)) # test data\n",
        "\n",
        "y_train = [] # train labels\n",
        "y_test = [] # test lbels\n",
        "\n",
        "for label in labels_list:\n",
        "  labels_all = np.where(labels_flat == label)[0] # find all indices of a particular label.\n",
        "  labels_test_idx = np.random.choice(labels_all.shape[0], int(np.ceil(labels_all.shape[0]*test_split)), replace=False) #create list of test indices by randomly selecting from all indices.\n",
        "  labels_train_idx = np.delete(labels_all, labels_test_idx) #create list of train indices by deleting test indices.\n",
        "\n",
        "  # Append to test/train numpy arrays for data and labels.\n",
        "  # Data arrays update.\n",
        "\n",
        "  counter = 0\n",
        "  for idx in labels_test_idx:\n",
        "    X_test = np.append(X_test, img_flat[idx].reshape(1,-1), axis=0)\n",
        "    y_test.append(label)\n",
        "    counter +=1\n",
        "\n",
        "  counter = 0\n",
        "  for idx in labels_train_idx:\n",
        "    X_train = np.append(X_train, img_flat[idx].reshape(1,-1), axis=0)\n",
        "    y_train.append(label)\n",
        "    counter +=1\n",
        "\n",
        "  # Labels lists update.\n",
        "#  for label in range(len(labels_train_idx)):\n",
        "    #y_train.append(label)\n",
        "  #for label in range(len(labels_test_idx)):\n",
        "    #y_test.append(label)\n",
        "\n",
        "# Once done looping:\n",
        "# Turn test lists into np arrays.\n",
        "y_test = np.array(y_test)\n",
        "y_train = np.array(y_train)\n",
        "\n",
        "# Remove initializing element in data arrays.\n",
        "X_train = np.delete(X_train, 0, axis=0)\n",
        "X_test = np.delete(X_test, 0, axis=0)\n",
        "\n",
        "\n",
        "# Shuffle final numpy arrays.\n",
        "from sklearn.utils import shuffle\n",
        "y_train, X_train = shuffle(y_train, X_train, random_state=10)\n",
        "y_test, X_test = shuffle(y_test, X_test, random_state=10)\n",
        "\n",
        "\n",
        "# THIS IS FOR VALIDATION\n",
        "#y_train.shape #(24476,)\n",
        "#X_train.shape #(24476, 11)\n",
        "\n",
        "#y_test.shape #(10493,)\n",
        "#X_test.shape #(10493, 11)"
      ],
      "metadata": {
        "id": "5zzMlhEB2pHo"
      },
      "execution_count": null,
      "outputs": []
    },
    {
      "cell_type": "code",
      "source": [
        "# Test for alternate train/test split\n",
        "from sklearn.model_selection import train_test_split\n",
        "X_train, X_test, y_train, y_test = train_test_split(img_flat, labels_flat, test_size=0.2, random_state=0)\n",
        "\n",
        "# THIS IS FOR VALIDATION\n",
        "#y_train.shape #(27975,1)\n",
        "#X_train.shape #(27975,11)\n",
        "\n",
        "#y_test.shape #(6994, 1)\n",
        "#X_test.shape #(6994, 11)"
      ],
      "metadata": {
        "id": "Ayzp1Kd0BAsZ"
      },
      "execution_count": null,
      "outputs": []
    },
    {
      "cell_type": "code",
      "source": [
        "# Train and test OOTB Random Forest Classifier.\n",
        "from sklearn.ensemble import RandomForestClassifier\n",
        "RFClassifier = RandomForestClassifier(n_estimators=20, random_state=0)\n",
        "RFClassifier.fit(X_train, y_train)\n",
        "y_pred = RFClassifier.predict(X_test)\n",
        "\n",
        "\n",
        "# Evalute.\n",
        "from sklearn.metrics import classification_report, confusion_matrix, accuracy_score\n",
        "\n",
        "print(\"confusion matrix:\\n\",confusion_matrix(y_test,y_pred))\n",
        "print(\"classification report:\\n\",classification_report(y_test,y_pred))\n",
        "print(\"accuracy score:\\n\",accuracy_score(y_test, y_pred))"
      ],
      "metadata": {
        "colab": {
          "base_uri": "https://localhost:8080/"
        },
        "id": "et1iRi571jDz",
        "outputId": "bb086177-dc80-4534-8ccb-6efd99542403"
      },
      "execution_count": null,
      "outputs": [
        {
          "output_type": "stream",
          "name": "stderr",
          "text": [
            "/usr/local/lib/python3.7/dist-packages/ipykernel_launcher.py:4: DataConversionWarning: A column-vector y was passed when a 1d array was expected. Please change the shape of y to (n_samples,), for example using ravel().\n",
            "  after removing the cwd from sys.path.\n"
          ]
        },
        {
          "output_type": "stream",
          "name": "stdout",
          "text": [
            "confusion matrix:\n",
            " [[1910    0   30   34    0    0]\n",
            " [  15 1307   24    1    1    0]\n",
            " [  40   19 1426    0    1    0]\n",
            " [  34    1    0 1871    0    4]\n",
            " [   1    4    3    0  207    0]\n",
            " [   0    0    0    3    0   58]]\n",
            "classification report:\n",
            "               precision    recall  f1-score   support\n",
            "\n",
            "           0       0.95      0.97      0.96      1974\n",
            "           1       0.98      0.97      0.98      1348\n",
            "           2       0.96      0.96      0.96      1486\n",
            "           3       0.98      0.98      0.98      1910\n",
            "           4       0.99      0.96      0.98       215\n",
            "           5       0.94      0.95      0.94        61\n",
            "\n",
            "    accuracy                           0.97      6994\n",
            "   macro avg       0.97      0.96      0.97      6994\n",
            "weighted avg       0.97      0.97      0.97      6994\n",
            "\n",
            "accuracy score:\n",
            " 0.9692593651701459\n"
          ]
        }
      ]
    },
    {
      "cell_type": "code",
      "source": [
        "!pip install xgboost"
      ],
      "metadata": {
        "id": "kq7aLtU_ffwf",
        "colab": {
          "base_uri": "https://localhost:8080/"
        },
        "outputId": "a76b112e-6bd3-4701-e1b9-729b5460a2cf"
      },
      "execution_count": null,
      "outputs": [
        {
          "output_type": "stream",
          "name": "stdout",
          "text": [
            "Looking in indexes: https://pypi.org/simple, https://us-python.pkg.dev/colab-wheels/public/simple/\n",
            "Requirement already satisfied: xgboost in /usr/local/lib/python3.7/dist-packages (0.90)\n",
            "Requirement already satisfied: scipy in /usr/local/lib/python3.7/dist-packages (from xgboost) (1.7.3)\n",
            "Requirement already satisfied: numpy in /usr/local/lib/python3.7/dist-packages (from xgboost) (1.21.6)\n"
          ]
        }
      ]
    },
    {
      "cell_type": "code",
      "source": [
        "import xgboost as xgb"
      ],
      "metadata": {
        "id": "pVrmnZYBffyl"
      },
      "execution_count": null,
      "outputs": []
    },
    {
      "cell_type": "code",
      "source": [
        "xgb_classifier = xgb.XGBClassifier()\n",
        "xgb_classifier.fit(X_train,y_train)\n",
        "y_pred_xgb = xgb_classifier.predict(X_test)\n",
        "\n",
        "\n",
        "# Evalute.\n",
        "print(\"confusion matrix:\\n\",confusion_matrix(y_test,y_pred_xgb))\n",
        "print(\"classification report:\\n\",classification_report(y_test,y_pred_xgb))\n",
        "print(\"accuracy score:\\n\",accuracy_score(y_test, y_pred_xgb))"
      ],
      "metadata": {
        "id": "SC8o4ppjff03",
        "colab": {
          "base_uri": "https://localhost:8080/"
        },
        "outputId": "35e19737-2a3b-4ff6-b63c-e752a16892c9"
      },
      "execution_count": null,
      "outputs": [
        {
          "output_type": "stream",
          "name": "stderr",
          "text": [
            "/usr/local/lib/python3.7/dist-packages/sklearn/preprocessing/_label.py:98: DataConversionWarning: A column-vector y was passed when a 1d array was expected. Please change the shape of y to (n_samples, ), for example using ravel().\n",
            "  y = column_or_1d(y, warn=True)\n",
            "/usr/local/lib/python3.7/dist-packages/sklearn/preprocessing/_label.py:133: DataConversionWarning: A column-vector y was passed when a 1d array was expected. Please change the shape of y to (n_samples, ), for example using ravel().\n",
            "  y = column_or_1d(y, warn=True)\n"
          ]
        },
        {
          "output_type": "stream",
          "name": "stdout",
          "text": [
            "confusion matrix:\n",
            " [[1910    2   25   34    3    0]\n",
            " [  23 1250   55    7   13    0]\n",
            " [  34   14 1438    0    0    0]\n",
            " [  31    2    0 1874    0    3]\n",
            " [   0    7    5    0  203    0]\n",
            " [   0    1    0    5    0   55]]\n",
            "classification report:\n",
            "               precision    recall  f1-score   support\n",
            "\n",
            "           0       0.96      0.97      0.96      1974\n",
            "           1       0.98      0.93      0.95      1348\n",
            "           2       0.94      0.97      0.96      1486\n",
            "           3       0.98      0.98      0.98      1910\n",
            "           4       0.93      0.94      0.94       215\n",
            "           5       0.95      0.90      0.92        61\n",
            "\n",
            "    accuracy                           0.96      6994\n",
            "   macro avg       0.96      0.95      0.95      6994\n",
            "weighted avg       0.96      0.96      0.96      6994\n",
            "\n",
            "accuracy score:\n",
            " 0.9622533600228768\n"
          ]
        }
      ]
    },
    {
      "cell_type": "code",
      "source": [],
      "metadata": {
        "id": "fllGKnFWzrKE"
      },
      "execution_count": null,
      "outputs": []
    },
    {
      "cell_type": "code",
      "source": [
        "from sklearn import svm\n",
        "\n",
        "#Create a svm Classifier\n",
        "clf = svm.SVC(kernel='rbf') # 0.9736917357735202\n",
        "#clf = svm.SVC(kernel='linear') # 0.8989133543036889\n",
        "#clf = svm.SVC(kernel='poly') # 0.9275092936802974\n",
        "#clf = svm.SVC(kernel='sigmoid') # 0.4376608521589934\n",
        "#clf = svm.SVC(kernel='precomputed') # error, because matrix must be square...\n",
        "\n",
        "#Train the model using the training sets\n",
        "clf.fit(X_train, y_train)\n",
        "\n",
        "#Predict the response for test dataset\n",
        "y_pred_svm = clf.predict(X_test)\n",
        "\n",
        "# Evalute.\n",
        "print(\"confusion matrix:\\n\",confusion_matrix(y_test,y_pred_svm))\n",
        "print(\"classification report:\\n\",classification_report(y_test,y_pred_svm))\n",
        "print(\"accuracy score:\\n\",accuracy_score(y_test, y_pred_svm))"
      ],
      "metadata": {
        "colab": {
          "base_uri": "https://localhost:8080/"
        },
        "id": "CqEYqR4MzrHT",
        "outputId": "ba3f5bfa-8916-429f-d59d-cc84a9bdc39b"
      },
      "execution_count": null,
      "outputs": [
        {
          "output_type": "stream",
          "name": "stderr",
          "text": [
            "/usr/local/lib/python3.7/dist-packages/sklearn/utils/validation.py:993: DataConversionWarning: A column-vector y was passed when a 1d array was expected. Please change the shape of y to (n_samples, ), for example using ravel().\n",
            "  y = column_or_1d(y, warn=True)\n"
          ]
        },
        {
          "output_type": "stream",
          "name": "stdout",
          "text": [
            "confusion matrix:\n",
            " [[1966    2    2    3    1    0]\n",
            " [  30 1211   66    9   29    3]\n",
            " [   8    7 1470    0    1    0]\n",
            " [   2    5    0 1903    0    0]\n",
            " [   0    7    1    0  207    0]\n",
            " [   0    2    0    6    0   53]]\n",
            "classification report:\n",
            "               precision    recall  f1-score   support\n",
            "\n",
            "           0       0.98      1.00      0.99      1974\n",
            "           1       0.98      0.90      0.94      1348\n",
            "           2       0.96      0.99      0.97      1486\n",
            "           3       0.99      1.00      0.99      1910\n",
            "           4       0.87      0.96      0.91       215\n",
            "           5       0.95      0.87      0.91        61\n",
            "\n",
            "    accuracy                           0.97      6994\n",
            "   macro avg       0.95      0.95      0.95      6994\n",
            "weighted avg       0.97      0.97      0.97      6994\n",
            "\n",
            "accuracy score:\n",
            " 0.9736917357735202\n"
          ]
        }
      ]
    },
    {
      "cell_type": "code",
      "source": [],
      "metadata": {
        "id": "Fw8LoaSByx4N"
      },
      "execution_count": null,
      "outputs": []
    },
    {
      "cell_type": "code",
      "source": [],
      "metadata": {
        "id": "izlbdcqUyx2F"
      },
      "execution_count": null,
      "outputs": []
    },
    {
      "cell_type": "code",
      "source": [],
      "metadata": {
        "id": "x_I_5koLyx0G"
      },
      "execution_count": null,
      "outputs": []
    },
    {
      "cell_type": "code",
      "source": [],
      "metadata": {
        "id": "u5qJM51dyxx3"
      },
      "execution_count": null,
      "outputs": []
    },
    {
      "cell_type": "markdown",
      "source": [
        "Run model against oil spill site 2 data."
      ],
      "metadata": {
        "id": "z6309y7HfgoH"
      }
    },
    {
      "cell_type": "code",
      "source": [],
      "metadata": {
        "id": "hkr5AOd9ff3a"
      },
      "execution_count": null,
      "outputs": []
    },
    {
      "cell_type": "code",
      "source": [],
      "metadata": {
        "id": "s01qnsMRff5h"
      },
      "execution_count": null,
      "outputs": []
    },
    {
      "cell_type": "code",
      "source": [],
      "metadata": {
        "id": "RQfaFGNTff74"
      },
      "execution_count": null,
      "outputs": []
    },
    {
      "cell_type": "code",
      "source": [],
      "metadata": {
        "id": "u5MPV_9Mff-j"
      },
      "execution_count": null,
      "outputs": []
    },
    {
      "cell_type": "code",
      "source": [],
      "metadata": {
        "id": "Nv0HigQa1i_P"
      },
      "execution_count": null,
      "outputs": []
    },
    {
      "cell_type": "markdown",
      "source": [
        "Psuedo-code: Figure out if balancing the test/train sets is appropriate.\n",
        "\n",
        "1. read."
      ],
      "metadata": {
        "id": "KC3HeZr8euSM"
      }
    },
    {
      "cell_type": "code",
      "source": [],
      "metadata": {
        "id": "Q4G5im4g1i8_"
      },
      "execution_count": null,
      "outputs": []
    },
    {
      "cell_type": "code",
      "source": [],
      "metadata": {
        "id": "Ga64LvVx1i6s"
      },
      "execution_count": null,
      "outputs": []
    },
    {
      "cell_type": "markdown",
      "source": [
        "Psuedo-code: perform analysis on different cluster types.\n",
        "\n",
        "1. find averages\n",
        "2. plot radar charts"
      ],
      "metadata": {
        "id": "g_cWKbIWr2C1"
      }
    },
    {
      "cell_type": "code",
      "source": [
        "# EDA for cluster characteristics.\n",
        "labels_flat = labels.ravel().reshape(-1,1)\n",
        "img_flat = kmeans_input\n",
        "\n",
        "#labels_flat.shape # (34969, 1) # DELETE LATER\n",
        "#img_flat.shape # (34969, 11) # DELETE LATER"
      ],
      "metadata": {
        "colab": {
          "base_uri": "https://localhost:8080/"
        },
        "id": "gQHTzK9ooWTt",
        "outputId": "a4556d42-8fcc-4c26-9604-1ce188f24a0d"
      },
      "execution_count": null,
      "outputs": [
        {
          "output_type": "execute_result",
          "data": {
            "text/plain": [
              "(34969, 1)"
            ]
          },
          "metadata": {},
          "execution_count": 100
        }
      ]
    },
    {
      "cell_type": "code",
      "source": [
        "# Get distribution of particular label.\n",
        "\n",
        "labels_0_all = np.where(labels_flat == 0)[0]\n",
        "#labels_0_all[0].shape #(9989,) # DELETE LATER\n",
        "#print(labels_0_all[0:10]) # DELETE LATER\n",
        "\n",
        "analysis = np.zeros((labels_0_all.shape[0],img_flat.shape[1]))\n",
        "#print(analysis.shape)#(9989, 11) # DELETE LATER\n",
        "\n",
        "counter = 0\n",
        "for idx in labels_0_all:\n",
        "  analysis[counter,:] = img_flat[idx,:]\n",
        "  counter += 1\n",
        "\n",
        "# Take mean along dimensions\n",
        "means = np.mean(analysis,axis=0)\n",
        "\n",
        "plt.hist(means)"
      ],
      "metadata": {
        "colab": {
          "base_uri": "https://localhost:8080/",
          "height": 352
        },
        "id": "l43G4InPoWRY",
        "outputId": "387e2259-47e9-45e5-f26b-d2755dee3dad"
      },
      "execution_count": null,
      "outputs": [
        {
          "output_type": "execute_result",
          "data": {
            "text/plain": [
              "(array([1., 0., 1., 1., 1., 0., 1., 0., 2., 4.]),\n",
              " array([0.1180845 , 0.16325672, 0.20842894, 0.25360117, 0.29877339,\n",
              "        0.34394561, 0.38911783, 0.43429006, 0.47946228, 0.5246345 ,\n",
              "        0.56980673]),\n",
              " <a list of 10 Patch objects>)"
            ]
          },
          "metadata": {},
          "execution_count": 119
        },
        {
          "output_type": "display_data",
          "data": {
            "text/plain": [
              "<Figure size 432x288 with 1 Axes>"
            ],
            "image/png": "[encoded data removed]"
          },
          "metadata": {
            "needs_background": "light"
          }
        }
      ]
    },
    {
      "cell_type": "code",
      "source": [
        "# AR for someone...chart some radar charts!\n",
        "\n",
        "#https://www.geeksforgeeks.org/star-charts-in-python/\n",
        "#https://matplotlib.org/stable/gallery/specialty_plots/radar_chart.html"
      ],
      "metadata": {
        "id": "RBXySjuUyUk9"
      },
      "execution_count": null,
      "outputs": []
    },
    {
      "cell_type": "code",
      "source": [],
      "metadata": {
        "id": "YTNHNKcgyUio"
      },
      "execution_count": null,
      "outputs": []
    },
    {
      "cell_type": "code",
      "source": [],
      "metadata": {
        "id": "40LXuMoiyUgX"
      },
      "execution_count": null,
      "outputs": []
    },
    {
      "cell_type": "code",
      "source": [],
      "metadata": {
        "id": "jJZBiRd4yUc4"
      },
      "execution_count": null,
      "outputs": []
    },
    {
      "cell_type": "code",
      "source": [],
      "metadata": {
        "id": "aApeit6CoWJy"
      },
      "execution_count": null,
      "outputs": []
    },
    {
      "cell_type": "code",
      "source": [],
      "metadata": {
        "id": "W6xClXDwoWHr"
      },
      "execution_count": null,
      "outputs": []
    },
    {
      "cell_type": "code",
      "source": [],
      "metadata": {
        "id": "Ms0-WSgWoWCn"
      },
      "execution_count": null,
      "outputs": []
    },
    {
      "cell_type": "code",
      "source": [],
      "metadata": {
        "id": "828MGl4FoWAL"
      },
      "execution_count": null,
      "outputs": []
    },
    {
      "cell_type": "code",
      "source": [],
      "metadata": {
        "id": "-KDZUPgqoV9v"
      },
      "execution_count": null,
      "outputs": []
    },
    {
      "cell_type": "markdown",
      "source": [
        "Spare code cells below. Can probably delete/ignore these..."
      ],
      "metadata": {
        "id": "LiJp03NDfXQm"
      }
    },
    {
      "cell_type": "code",
      "source": [
        "#EDA for normalization step.\n",
        "\n",
        "\n",
        "import matplotlib.pyplot as plt\n",
        "import numpy as np\n",
        "\n",
        "titles = bands\n",
        "f,a = plt.subplots(len(bands),2)\n",
        "a = a.ravel()\n",
        "for idx,ax in enumerate(a):\n",
        "  print(\"layer max:\",img[:,:,layer].max())\n",
        "  print(\"layer max:\",img[:,:,layer].min())\n",
        "  ax.hist(img[idx])\n",
        "\n",
        "\n",
        "#plt.hist(img[:,:,layer].ravel(), bins=20)\n",
        "\n",
        "arr = preprocessing.normalize(img[:,:,layer], norm='l2')\n",
        "\n",
        "print(img[:,:,layer].shape)\n",
        "print(arr.shape)\n",
        "print(\"normed layer max:\",arr.max())\n",
        "print(\"normed layer min:\",arr.min())\n",
        "print(arr.shape)\n",
        "\n",
        "plt.hist(arr, bins=20)\n",
        "plt.tight_layout()"
      ],
      "metadata": {
        "id": "Ikv7F52jnjUg"
      },
      "execution_count": null,
      "outputs": []
    },
    {
      "cell_type": "code",
      "source": [
        "# EDA for single layer normalization\n",
        "from sklearn import preprocessing\n",
        "layer = 0\n",
        "print(img[:,:,layer])\n",
        "print(\"layer max:\",img[:,:,layer].max())\n",
        "print(\"layer min:\",img[:,:,layer].min())\n",
        "\n",
        "#plt.hist(img[:,:,layer].ravel(), bins=20)\n",
        "\n",
        "arr_ravel = img[:,:,layer].ravel()\n",
        "arr_ravel_reshape = arr_ravel.reshape(-1,1)\n",
        "arr_ravel_normed = preprocessing.normalize(arr_ravel_reshape,norm='l2',axis=0) #https://datascience.stackexchange.com/questions/65360/why-cant-i-normalize-my-data-using-preprocessing-normalize\n",
        "\n",
        "print(arr_ravel_normed)\n",
        "print(\"layer max:\",arr_ravel_normed.max())\n",
        "print(\"layer min:\",arr_ravel_normed.min())\n",
        "print(arr_ravel_normed.reshape(187,187))\n",
        "\n",
        "plt.hist(arr_ravel_normed, bins=20)"
      ],
      "metadata": {
        "id": "Vpox6p01iYyV"
      },
      "execution_count": null,
      "outputs": []
    },
    {
      "cell_type": "code",
      "source": [
        "# normalize the image layers.\n",
        "# notes on normalization: https://www.kaggle.com/code/residentmario/l1-norms-versus-l2-norms/notebook\n",
        "\n",
        "img_norm = np.zeros(img.shape)\n",
        "print(img_norm.shape)\n",
        "\n",
        "for layer in range(img.shape[2]):\n",
        "  print(\"layer number\",layer)\n",
        "  print(\"layer\", layer,\"max:\",img[:,:,layer].max())\n",
        "  print(\"layer\", layer,\"min:\",img[:,:,layer].min())\n",
        "  img_norm[:,:,layer] = preprocessing.normalize(img[:,:,layer].ravel().reshape(-1,1),norm='l2',axis=0).reshape(img.shape[:2])\n",
        "\n",
        "  print(\"normed layer\", layer,\"max:\",img_norm[:,:,layer].max())\n",
        "  print(\"normed layer\", layer,\"min:\",img_norm[:,:,layer].min())"
      ],
      "metadata": {
        "id": "Tz7V5UMSgRSu"
      },
      "execution_count": null,
      "outputs": []
    },
    {
      "cell_type": "code",
      "source": [
        "# Obtain balanced test/train splits for data (X) and labels (Y).\n",
        "labels_list = [0,1,2,3,4,5]\n",
        "labels_flat = labels.ravel().reshape(-1,1)\n",
        "img_flat = kmeans_input\n",
        "\n",
        "\n",
        "\n",
        "labels_0_all = np.where(labels_flat == 0)[0]\n",
        "#labels_0_all[0].shape #(9989,) # DELETE LATER\n",
        "#print(labels_0_all[0:10]) # DELETE LATER\n",
        "\n",
        "test_split = 0.3\n",
        "\n",
        "labels_0_test_idx = np.random.choice(labels_0_all.shape[0], int(np.ceil(labels_0_all.shape[0]*test_split)), replace=False)  \n",
        "#labels_0_test_idx.shape # (2997,)\n",
        "labels_0_train_idx = np.delete(labels_0_all, labels_0_test_idx)\n",
        "\n",
        "#analysis = np.zeros((labels_0_all.shape[0],img_flat.shape[1]))\n",
        "##print(analysis.shape)#(9989, 11) # DELETE LATER\n",
        "\n",
        "#counter = 0\n",
        "#for idx in labels_0_all:\n",
        "#  analysis[counter,:] = img_flat[idx,:]\n",
        "#  counter += 1"
      ],
      "metadata": {
        "id": "l3RrNG-qoWFF"
      },
      "execution_count": null,
      "outputs": []
    }
  ]
}