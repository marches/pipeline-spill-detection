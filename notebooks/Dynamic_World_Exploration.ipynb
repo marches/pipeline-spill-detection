{
  "nbformat": 4,
  "nbformat_minor": 0,
  "metadata": {
    "colab": {
      "provenance": [],
      "collapsed_sections": [],
      "include_colab_link": true
    },
    "kernelspec": {
      "name": "python3",
      "display_name": "Python 3"
    }
  },
  "cells": [
    {
      "cell_type": "markdown",
      "metadata": {
        "id": "view-in-github",
        "colab_type": "text"
      },
      "source": [
        "<a href=\"https://colab.research.google.com/github/marches/pipeline-spill-detection/blob/main/Dynamic_World_Exploration.ipynb\" target=\"_parent\"><img src=\"https://colab.research.google.com/assets/colab-badge.svg\" alt=\"Open In Colab\"/></a>"
      ]
    },
    {
      "cell_type": "code",
      "metadata": {
        "id": "krsLgVBYZw_A"
      },
      "source": [
        "#@title Copyright 2019 Google LLC. { display-mode: \"form\" }\n",
        "# Licensed under the Apache License, Version 2.0 (the \"License\");\n",
        "# you may not use this file except in compliance with the License.\n",
        "# You may obtain a copy of the License at\n",
        "#\n",
        "# https://www.apache.org/licenses/LICENSE-2.0\n",
        "#\n",
        "# Unless required by applicable law or agreed to in writing, software\n",
        "# distributed under the License is distributed on an \"AS IS\" BASIS,\n",
        "# WITHOUT WARRANTIES OR CONDITIONS OF ANY KIND, either express or implied.\n",
        "# See the License for the specific language governing permissions and\n",
        "# limitations under the License."
      ],
      "execution_count": null,
      "outputs": []
    },
    {
      "cell_type": "markdown",
      "metadata": {
        "id": "aV1xZ1CPi3Nw"
      },
      "source": [
        "<table class=\"ee-notebook-buttons\" align=\"left\"><td>\n",
        "<a target=\"_blank\"  href=\"http://colab.research.google.com/github/google/earthengine-api/blob/master/python/examples/ipynb/ee-api-colab-setup.ipynb\">\n",
        "    <img src=\"https://www.tensorflow.org/images/colab_logo_32px.png\" /> Run in Google Colab</a>\n",
        "</td><td>\n",
        "<a target=\"_blank\"  href=\"https://github.com/google/earthengine-api/blob/master/python/examples/ipynb/ee-api-colab-setup.ipynb\"><img width=32px src=\"https://www.tensorflow.org/images/GitHub-Mark-32px.png\" /> View source on GitHub</a></td></table>"
      ]
    },
    {
      "cell_type": "markdown",
      "metadata": {
        "id": "LAZiVi13zTE7"
      },
      "source": [
        "# Earth Engine Python API Colab Setup\n",
        "\n",
        "This notebook demonstrates how to setup the Earth Engine Python API in Colab and provides several examples of how to print and visualize Earth Engine processed data."
      ]
    },
    {
      "cell_type": "markdown",
      "metadata": {
        "id": "a69CuP5Q6OI7"
      },
      "source": [
        "## Import API and get credentials\n",
        "\n",
        "The Earth Engine API is installed by default in Google Colaboratory so requires only importing and authenticating. These steps must be completed for each new Colab session, if you restart your Colab kernel, or if your Colab virtual machine is recycled due to inactivity."
      ]
    },
    {
      "cell_type": "markdown",
      "metadata": {
        "id": "SNh-QBc36Mvk"
      },
      "source": [
        "### Import the API\n",
        "\n",
        "Run the following cell to import the API into your session."
      ]
    },
    {
      "cell_type": "code",
      "metadata": {
        "id": "65RChERMzQHZ"
      },
      "source": [
        "import ee"
      ],
      "execution_count": 2,
      "outputs": []
    },
    {
      "cell_type": "markdown",
      "metadata": {
        "id": "s-dN42MTzg-w"
      },
      "source": [
        "### Authenticate and initialize\n",
        "\n",
        "Run the `ee.Authenticate` function to authenticate your access to Earth Engine servers and `ee.Initialize` to initialize it. Upon running the following cell you'll be asked to grant Earth Engine access to your Google account. Follow the instructions printed to the cell."
      ]
    },
    {
      "cell_type": "code",
      "metadata": {
        "id": "NMp9Ei9b0XXL",
        "outputId": "0298b63c-5130-4b77-97d9-51d5b9c9b14e",
        "colab": {
          "base_uri": "https://localhost:8080/"
        }
      },
      "source": [
        "# Trigger the authentication flow.\n",
        "ee.Authenticate()\n",
        "\n",
        "# Initialize the library.\n",
        "ee.Initialize()"
      ],
      "execution_count": 3,
      "outputs": [
        {
          "output_type": "stream",
          "name": "stdout",
          "text": [
            "To authorize access needed by Earth Engine, open the following URL in a web browser and follow the instructions. If the web browser does not start automatically, please manually browse the URL below.\n",
            "\n",
            "    https://code.earthengine.google.com/client-auth?scopes=https%3A//www.googleapis.com/auth/earthengine%20https%3A//www.googleapis.com/auth/devstorage.full_control&request_id=zu29EKIU2BiVfSko47NoE3fWZEtMKOufOhsuFt91jV8&tc=l86qPuwx05KxxiiI-Zg8mRauhL-HOHSO1QIABgWcP64&cc=TpdtametvYwEXJ3R_G5jeKYxUzUnlqGjYyV3ZSM4gmQ\n",
            "\n",
            "The authorization workflow will generate a code, which you should paste in the box below.\n",
            "Enter verification code: 4/1AfgeXvuR0WeyT8fHiJrUhopJNXBY6ZJajLTIc5wnTv8jvjy4zS-t66h9AF8\n",
            "\n",
            "Successfully saved authorization token.\n"
          ]
        }
      ]
    },
    {
      "cell_type": "markdown",
      "source": [
        "# Explore Dynamic World API - 10m resolution imagery classified to 10 factors\n",
        "\n",
        "Collection: ee.ImageCollection('GOOGLE/DYNAMICWORLD/V1')"
      ],
      "metadata": {
        "id": "pafET-hkmeN4"
      }
    },
    {
      "cell_type": "markdown",
      "source": [
        "# Basics of the API\n",
        "\n",
        "Introduction to the documentation\n",
        "\n",
        "https://developers.google.com/earth-engine/tutorials/community/introduction-to-dynamic-world-pt-1\n",
        "\n",
        "\n"
      ],
      "metadata": {
        "id": "p59AE1D-mqWk"
      }
    },
    {
      "cell_type": "code",
      "source": [
        "startDate = '2021-10-15';\n",
        "endDate = '2021-10-25';\n",
        "geometry = ee.Geometry.Point([-72.28525, 42.36103]);\n",
        "s2 = ee.ImageCollection('COPERNICUS/S2_HARMONIZED')\\\n",
        "             .filterDate(startDate, endDate)\\\n",
        "             .filterBounds(geometry)\\\n",
        "             .filter(ee.Filter.lt('CLOUDY_PIXEL_PERCENTAGE', 35))\n",
        "\n",
        "s2Image = ee.Image(s2.first())\n",
        "imageId = s2Image.get('system:index')\n",
        "print(imageId)\n"
      ],
      "metadata": {
        "id": "SORTb1m2mq-8"
      },
      "execution_count": null,
      "outputs": []
    },
    {
      "cell_type": "markdown",
      "source": [
        "Use the image id generated from the sentinel image to locate corresponding Dynamic World data"
      ],
      "metadata": {
        "id": "4xhxf2zNEqmI"
      }
    },
    {
      "cell_type": "code",
      "source": [
        "dw = ee.ImageCollection('GOOGLE/DYNAMICWORLD/V1')\\\n",
        "             .filter(ee.Filter.eq('system:index', imageId))\n",
        "dwImage = ee.Image(dw.first())\n",
        "print(dwImage)"
      ],
      "metadata": {
        "id": "NcH7rlWdEkQR"
      },
      "execution_count": null,
      "outputs": []
    },
    {
      "cell_type": "markdown",
      "source": [
        "Now the struct for querying/downloading is defined. Use the following to download and combine GeoTiff images:\n",
        "* ee.batch.Export.image.toDrive\n",
        "\n",
        "TODO"
      ],
      "metadata": {
        "id": "yVNSjlvAFiwU"
      }
    },
    {
      "cell_type": "code",
      "source": [],
      "metadata": {
        "id": "WdMbXXWmkDGT"
      },
      "execution_count": null,
      "outputs": []
    },
    {
      "cell_type": "markdown",
      "source": [
        "Create image with Rasterio, then extract numpy arrays of labels. \n",
        "\n",
        "TODO"
      ],
      "metadata": {
        "id": "FCN-rU7OF0nI"
      }
    },
    {
      "cell_type": "code",
      "source": [],
      "metadata": {
        "id": "iKW_z_heF-Ft"
      },
      "execution_count": null,
      "outputs": []
    },
    {
      "cell_type": "markdown",
      "source": [
        "Convert labels to probability. Dynami world labels are covered here: https://developers.google.com/earth-engine/datasets/catalog/GOOGLE_DYNAMICWORLD_V1"
      ],
      "metadata": {
        "id": "EKtB2hH8GBEz"
      }
    },
    {
      "cell_type": "code",
      "source": [],
      "metadata": {
        "id": "3nw5kCITGEU7"
      },
      "execution_count": null,
      "outputs": []
    }
  ]
}